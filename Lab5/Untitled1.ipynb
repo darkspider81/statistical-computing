{
 "cells": [
  {
   "cell_type": "code",
   "execution_count": 1,
   "id": "0fdcc5df",
   "metadata": {},
   "outputs": [],
   "source": [
    "import pandas as pd\n",
    "import os"
   ]
  },
  {
   "cell_type": "code",
   "execution_count": 3,
   "id": "c2090311",
   "metadata": {},
   "outputs": [],
   "source": [
    "files=[file for file in os.listdir('C:/Users/Darkspider/Desktop/Data Science Labs/Lab5/Pandas-Data-Science-Tasks-master/SalesAnalysis/Sales_Data') if file.endswith ('.csv')]\n"
   ]
  },
  {
   "cell_type": "code",
   "execution_count": 4,
   "id": "609732da",
   "metadata": {},
   "outputs": [],
   "source": [
    "all_months_data=pd.DataFrame()"
   ]
  },
  {
   "cell_type": "code",
   "execution_count": 9,
   "id": "ab2f3b86",
   "metadata": {},
   "outputs": [],
   "source": [
    "for file in files:\n",
    "    file_path=os.path.join('C:/Users/Darkspider/Desktop/Data Science Labs/Lab5/Pandas-Data-Science-Tasks-master/SalesAnalysis/Sales_Data',file)\n",
    "    "
   ]
  },
  {
   "cell_type": "code",
   "execution_count": 10,
   "id": "808273e5",
   "metadata": {},
   "outputs": [],
   "source": [
    "df=pd.read_csv(file_path)"
   ]
  },
  {
   "cell_type": "code",
   "execution_count": null,
   "id": "0a8fb35f",
   "metadata": {},
   "outputs": [],
   "source": [
    "all_months_data=pd.concat([])"
   ]
  }
 ],
 "metadata": {
  "kernelspec": {
   "display_name": "Python 3 (ipykernel)",
   "language": "python",
   "name": "python3"
  },
  "language_info": {
   "codemirror_mode": {
    "name": "ipython",
    "version": 3
   },
   "file_extension": ".py",
   "mimetype": "text/x-python",
   "name": "python",
   "nbconvert_exporter": "python",
   "pygments_lexer": "ipython3",
   "version": "3.10.9"
  }
 },
 "nbformat": 4,
 "nbformat_minor": 5
}
