{
 "cells": [
  {
   "cell_type": "markdown",
   "metadata": {},
   "source": [
    "# Simple linear regression - exercise"
   ]
  },
  {
   "cell_type": "markdown",
   "metadata": {},
   "source": [
    "You are given a real estate dataset. \n",
    "\n",
    "Real estate is one of those examples that every regression course goes through as it is extremely easy to understand and there is a (almost always) certain causal relationship to be found.\n",
    "\n",
    "The data is located in the file: 'real_estate_price_size.csv'. \n",
    "\n",
    "You are expected to create a simple linear regression (similar to the one in the lecture), using the new data.\n",
    "\n",
    "In this exercise, the dependent variable is 'price', while the independent variables is 'size'.\n",
    "\n",
    "Good luck!"
   ]
  },
  {
   "cell_type": "markdown",
   "metadata": {},
   "source": [
    "## Import the relevant libraries"
   ]
  },
  {
   "cell_type": "code",
   "execution_count": 8,
   "metadata": {},
   "outputs": [
    {
     "name": "stdout",
     "output_type": "stream",
     "text": [
      "Requirement already satisfied: pandas in c:\\users\\admin\\anaconda3\\lib\\site-packages (1.4.2)\n",
      "Requirement already satisfied: numpy>=1.18.5 in c:\\users\\admin\\anaconda3\\lib\\site-packages (from pandas) (1.21.5)\n",
      "Requirement already satisfied: pytz>=2020.1 in c:\\users\\admin\\anaconda3\\lib\\site-packages (from pandas) (2021.3)\n",
      "Requirement already satisfied: python-dateutil>=2.8.1 in c:\\users\\admin\\anaconda3\\lib\\site-packages (from pandas) (2.8.2)\n",
      "Requirement already satisfied: six>=1.5 in c:\\users\\admin\\anaconda3\\lib\\site-packages (from python-dateutil>=2.8.1->pandas) (1.16.0)\n"
     ]
    }
   ],
   "source": [
    "!pip install pandas\n",
    "import pandas as pd\n",
    "import statsmodels.api as sm\n",
    "import statsmodels.api as sm\n",
    "import matplotlib.pyplot as plt\n",
    "from statsmodels.formula.api import ols"
   ]
  },
  {
   "cell_type": "markdown",
   "metadata": {},
   "source": [
    "## Load the data"
   ]
  },
  {
   "cell_type": "code",
   "execution_count": 2,
   "metadata": {},
   "outputs": [],
   "source": [
    "file_path = r'C:\\Users\\Admin\\Desktop\\real_estate_price_size.csv'\n",
    "data = pd.read_csv(file_path)"
   ]
  },
  {
   "cell_type": "code",
   "execution_count": null,
   "metadata": {},
   "outputs": [],
   "source": []
  },
  {
   "cell_type": "markdown",
   "metadata": {},
   "source": [
    "## Create the regression"
   ]
  },
  {
   "cell_type": "markdown",
   "metadata": {},
   "source": [
    "### Declare the dependent and the independent variables"
   ]
  },
  {
   "cell_type": "code",
   "execution_count": 4,
   "metadata": {},
   "outputs": [],
   "source": [
    "X = data['size'].values.reshape(-1, 1)\n",
    "y = data['price'].values"
   ]
  },
  {
   "cell_type": "markdown",
   "metadata": {},
   "source": [
    "### Explore the data"
   ]
  },
  {
   "cell_type": "code",
   "execution_count": 10,
   "metadata": {},
   "outputs": [
    {
     "name": "stdout",
     "output_type": "stream",
     "text": [
      "Summary Statistics for Size:\n",
      "count     100.000000\n",
      "mean      853.024200\n",
      "std       297.941951\n",
      "min       479.750000\n",
      "25%       643.330000\n",
      "50%       696.405000\n",
      "75%      1029.322500\n",
      "max      1842.510000\n",
      "Name: size, dtype: float64\n",
      "\n",
      "Summary Statistics for Price:\n",
      "count       100.000000\n",
      "mean     292289.470160\n",
      "std       77051.727525\n",
      "min      154282.128000\n",
      "25%      234280.148000\n",
      "50%      280590.716000\n",
      "75%      335723.696000\n",
      "max      500681.128000\n",
      "Name: price, dtype: float64\n"
     ]
    }
   ],
   "source": [
    "size_stats = data['size'].describe()\n",
    "price_stats = data['price'].describe()\n",
    "\n",
    "print(\"Summary Statistics for Size:\")\n",
    "print(size_stats)\n",
    "print(\"\\nSummary Statistics for Price:\")\n",
    "print(price_stats)"
   ]
  },
  {
   "cell_type": "markdown",
   "metadata": {},
   "source": [
    "### Regression itself"
   ]
  },
  {
   "cell_type": "code",
   "execution_count": 7,
   "metadata": {},
   "outputs": [
    {
     "name": "stdout",
     "output_type": "stream",
     "text": [
      "ANOVA results:\n",
      "                sum_sq    df           F        PR(>F)\n",
      "size      4.377278e+11   1.0  285.921052  8.127632e-31\n",
      "Residual  1.500321e+11  98.0         NaN           NaN\n",
      "\n",
      "Regression summary:\n",
      "                            OLS Regression Results                            \n",
      "==============================================================================\n",
      "Dep. Variable:                  price   R-squared:                       0.745\n",
      "Model:                            OLS   Adj. R-squared:                  0.742\n",
      "Method:                 Least Squares   F-statistic:                     285.9\n",
      "Date:                Wed, 21 Jun 2023   Prob (F-statistic):           8.13e-31\n",
      "Time:                        05:56:44   Log-Likelihood:                -1198.3\n",
      "No. Observations:                 100   AIC:                             2401.\n",
      "Df Residuals:                      98   BIC:                             2406.\n",
      "Df Model:                           1                                         \n",
      "Covariance Type:            nonrobust                                         \n",
      "==============================================================================\n",
      "                 coef    std err          t      P>|t|      [0.025      0.975]\n",
      "------------------------------------------------------------------------------\n",
      "Intercept   1.019e+05   1.19e+04      8.550      0.000    7.83e+04    1.26e+05\n",
      "size         223.1787     13.199     16.909      0.000     196.986     249.371\n",
      "==============================================================================\n",
      "Omnibus:                        6.262   Durbin-Watson:                   2.267\n",
      "Prob(Omnibus):                  0.044   Jarque-Bera (JB):                2.938\n",
      "Skew:                           0.117   Prob(JB):                        0.230\n",
      "Kurtosis:                       2.194   Cond. No.                     2.75e+03\n",
      "==============================================================================\n",
      "\n",
      "Notes:\n",
      "[1] Standard Errors assume that the covariance matrix of the errors is correctly specified.\n",
      "[2] The condition number is large, 2.75e+03. This might indicate that there are\n",
      "strong multicollinearity or other numerical problems.\n"
     ]
    }
   ],
   "source": [
    "model = ols('price ~ size', data=data).fit()\n",
    "anova_table = sm.stats.anova_lm(model, typ=2)\n",
    "summary = model.summary()\n",
    "\n",
    "print(\"ANOVA results:\")\n",
    "print(anova_table)\n",
    "print(\"\\nRegression summary:\")\n",
    "print(summary)"
   ]
  },
  {
   "cell_type": "markdown",
   "metadata": {},
   "source": [
    "### Plot the regression line on the initial scatter"
   ]
  },
  {
   "cell_type": "code",
   "execution_count": 9,
   "metadata": {},
   "outputs": [
    {
     "data": {
      "image/png": "[encoded data removed]",
      "text/plain": [
       "<Figure size 432x288 with 1 Axes>"
      ]
     },
     "metadata": {
      "needs_background": "light"
     },
     "output_type": "display_data"
    }
   ],
   "source": [
    "plt.scatter(data['size'], data['price'], color='blue', label='Data')\n",
    "plt.plot(data['size'], model.predict(data['size']), color='red', label='Regression Line')\n",
    "plt.xlabel('Size')\n",
    "plt.ylabel('Price')\n",
    "plt.title('Scatter Plot with Regression Line')\n",
    "plt.legend()\n",
    "plt.show()"
   ]
  },
  {
   "cell_type": "code",
   "execution_count": null,
   "metadata": {},
   "outputs": [],
   "source": []
  }
 ],
 "metadata": {
  "kernelspec": {
   "display_name": "Python 3 (ipykernel)",
   "language": "python",
   "name": "python3"
  },
  "language_info": {
   "codemirror_mode": {
    "name": "ipython",
    "version": 3
   },
   "file_extension": ".py",
   "mimetype": "text/x-python",
   "name": "python",
   "nbconvert_exporter": "python",
   "pygments_lexer": "ipython3",
   "version": "3.10.9"
  }
 },
 "nbformat": 4,
 "nbformat_minor": 2
}
